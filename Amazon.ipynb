{
 "cells": [
  {
   "cell_type": "code",
   "execution_count": 1,
   "metadata": {},
   "outputs": [],
   "source": [
    "from peewee import(SqliteDatabase,\n",
    "Model,\n",
    "CharField,\n",
    "IntegerField,\n",
    "ForeignKeyField)"
   ]
  },
  {
   "cell_type": "code",
   "execution_count": 2,
   "metadata": {},
   "outputs": [
    {
     "name": "stdout",
     "output_type": "stream",
     "text": [
      "<class 'peewee.SqliteDatabase'>\n"
     ]
    }
   ],
   "source": [
    "db = SqliteDatabase('Amazon.db')\n",
    "print(f\"{SqliteDatabase}\")"
   ]
  },
  {
   "cell_type": "code",
   "execution_count": 3,
   "metadata": {},
   "outputs": [
    {
     "name": "stdout",
     "output_type": "stream",
     "text": [
      "<Model: BaseModel>\n"
     ]
    }
   ],
   "source": [
    "class BaseModel(Model): \n",
    "    class Meta:\n",
    "      database = db\n",
    "print(f\"{BaseModel}\")"
   ]
  },
  {
   "cell_type": "code",
   "execution_count": 4,
   "metadata": {},
   "outputs": [
    {
     "name": "stdout",
     "output_type": "stream",
     "text": [
      "<Model: Category>\n"
     ]
    }
   ],
   "source": [
    "class Category(BaseModel):\n",
    " name = CharField(unique=True)\n",
    "print(f\"{Category}\")"
   ]
  },
  {
   "cell_type": "code",
   "execution_count": 5,
   "metadata": {},
   "outputs": [
    {
     "name": "stdout",
     "output_type": "stream",
     "text": [
      "<Model: Products>\n"
     ]
    }
   ],
   "source": [
    "class Products(BaseModel):\n",
    " name = CharField(unique=True)\n",
    "price = IntegerField()\n",
    "category = ForeignKeyField(Category, backref='category')\n",
    "description = CharField()\n",
    "print(f\"{Products}\")"
   ]
  },
  {
   "cell_type": "code",
   "execution_count": 6,
   "metadata": {},
   "outputs": [],
   "source": [
    "db.connect()\n",
    "db.create_tables([Category, Products])\n",
    "#print(f\"{connect}{create_tables}\")"
   ]
  },
  {
   "cell_type": "code",
   "execution_count": 7,
   "metadata": {},
   "outputs": [
    {
     "name": "stdout",
     "output_type": "stream",
     "text": [
      "Data exported to amazon_data.csv successfully.\n"
     ]
    }
   ],
   "source": [
    "import csv\n",
    "from faker import Faker\n",
    "\n",
    "faker = Faker()\n",
    "categories = [faker.word() for _ in range(5)]\n",
    "amazon_data = []\n",
    "\n",
    "for _ in range(100):\n",
    "    products_name = faker.sentence(nb_words=3)\n",
    "    products_price = faker.random_int(min=100, max=1000)\n",
    "    category = faker.random_element(categories)\n",
    "    products_description = faker.text(max_nb_chars=200)\n",
    "    \n",
    "    amazon_data.append({\n",
    "        \"name\": products_name,\n",
    "        \"price\": products_price,\n",
    "        \"category\": category,\n",
    "        \"description\": products_description\n",
    "    })\n",
    "\n",
    "with open('amazon_data.csv', mode='w', newline='', encoding='utf-8') as file:\n",
    "    writer = csv.DictWriter(file, fieldnames=[\"name\", \"price\", \"category\", \"description\"])\n",
    "    writer.writeheader()\n",
    "    writer.writerows(amazon_data)\n",
    "\n",
    "print(\"Data exported to amazon_data.csv successfully.\")"
   ]
  },
  {
   "cell_type": "code",
   "execution_count": 8,
   "metadata": {},
   "outputs": [
    {
     "name": "stdout",
     "output_type": "stream",
     "text": [
      "amazon_data.csv\n"
     ]
    }
   ],
   "source": [
    "import csv\n",
    "from peewee import IntegrityError\n",
    "csv_file_path = 'amazon_data.csv'\n",
    "with open(csv_file_path, newline='', encoding='utf-8') as csvfile:\n",
    " reader = csv.DictReader(csvfile)\n",
    " for row in reader:\n",
    "  category, created = Category.get_or_create(name=row['category'])\n",
    "Products.create(\n",
    "name=row['name'],\n",
    "price=float(row['price']),\n",
    "category=category,\n",
    "description=row['description']\n",
    ")\n",
    "print(f\"{csv_file_path}\")"
   ]
  }
 ],
 "metadata": {
  "kernelspec": {
   "display_name": "Python 3",
   "language": "python",
   "name": "python3"
  },
  "language_info": {
   "codemirror_mode": {
    "name": "ipython",
    "version": 3
   },
   "file_extension": ".py",
   "mimetype": "text/x-python",
   "name": "python",
   "nbconvert_exporter": "python",
   "pygments_lexer": "ipython3",
   "version": "3.11.9"
  }
 },
 "nbformat": 4,
 "nbformat_minor": 2
}
